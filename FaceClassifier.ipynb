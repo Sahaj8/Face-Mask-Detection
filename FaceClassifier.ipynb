{
 "cells": [
  {
   "cell_type": "code",
   "execution_count": 1,
   "metadata": {
    "_cell_guid": "3e26e2ae-b807-484d-bf25-91dac77588db",
    "_uuid": "3603d421-cf5d-489a-9bba-83ba3e5a9eee",
    "execution": {
     "iopub.execute_input": "2021-03-21T17:07:25.529355Z",
     "iopub.status.busy": "2021-03-21T17:07:25.528817Z",
     "iopub.status.idle": "2021-03-21T17:07:31.725141Z",
     "shell.execute_reply": "2021-03-21T17:07:31.724130Z"
    },
    "papermill": {
     "duration": 6.213044,
     "end_time": "2021-03-21T17:07:31.725341",
     "exception": false,
     "start_time": "2021-03-21T17:07:25.512297",
     "status": "completed"
    },
    "tags": []
   },
   "outputs": [],
   "source": [
    "import cv2,os\n",
    "import argparse\n",
    "import numpy as np\n",
    "from matplotlib import pyplot as plt\n",
    "from sklearn.model_selection import train_test_split\n",
    "\n",
    "from keras.utils import np_utils\n",
    "from keras.models import Sequential\n",
    "from keras.models import load_model\n",
    "from keras.callbacks import ModelCheckpoint\n",
    "from keras.layers import Conv2D,MaxPooling2D\n",
    "from tensorflow.keras.applications import MobileNetV2\n",
    "from tensorflow.keras.layers import AveragePooling2D\n",
    "from keras.layers import Dense,Activation,Flatten,Dropout,BatchNormalization\n",
    "from tensorflow.keras.preprocessing.image import ImageDataGenerator\n",
    "\n",
    "from tensorflow.keras.layers import Input\n",
    "from tensorflow.keras.models import Model\n",
    "from tensorflow.keras.optimizers import Adam\n",
    "from tensorflow.keras.utils import to_categorical\n",
    "from sklearn.preprocessing import LabelBinarizer\n",
    "from sklearn.metrics import classification_report\n",
    "from tensorflow.keras.preprocessing.image import load_img\n",
    "from tensorflow.keras.preprocessing.image import img_to_array\n",
    "from tensorflow.keras.applications.mobilenet_v2 import preprocess_input"
   ]
  },
  {
   "cell_type": "code",
   "execution_count": 2,
   "metadata": {
    "_cell_guid": "047a98c0-b913-4cb8-b3ee-89cdeb610592",
    "_uuid": "a50b9f2f-1157-47d3-a3e0-fe8e0e408037",
    "execution": {
     "iopub.execute_input": "2021-03-21T17:07:31.746624Z",
     "iopub.status.busy": "2021-03-21T17:07:31.746114Z",
     "iopub.status.idle": "2021-03-21T17:07:31.763491Z",
     "shell.execute_reply": "2021-03-21T17:07:31.762867Z"
    },
    "papermill": {
     "duration": 0.02986,
     "end_time": "2021-03-21T17:07:31.763652",
     "exception": false,
     "start_time": "2021-03-21T17:07:31.733792",
     "status": "completed"
    },
    "tags": []
   },
   "outputs": [
    {
     "name": "stdout",
     "output_type": "stream",
     "text": [
      "{'WithoutMask': 0, 'WithMask': 1}\n",
      "['WithoutMask', 'WithMask']\n",
      "[0, 1]\n"
     ]
    }
   ],
   "source": [
    "data_path=\"../input/facemaskdetection/data/data\"\n",
    "data_path1=\"../input/face-mask-12k-images-dataset/Face Mask Dataset/Train\"\n",
    "data_path2=\"../input/face-mask-12k-images-dataset/Face Mask Dataset/Test\"\n",
    "categories=os.listdir(data_path1)\n",
    "labels=[i for i in range(len(categories))]\n",
    "\n",
    "label_dict=dict(zip(categories,labels))\n",
    "\n",
    "print(label_dict)\n",
    "print(categories)\n",
    "print(labels)\n",
    "\n",
    "img_size=100\n",
    "data=[]\n",
    "target=[]"
   ]
  },
  {
   "cell_type": "code",
   "execution_count": 3,
   "metadata": {
    "_cell_guid": "19e0e37a-1f3c-4ec9-90be-cec667a02a39",
    "_uuid": "1472aafd-dedc-4b40-97a2-d5931dc26057",
    "execution": {
     "iopub.execute_input": "2021-03-21T17:07:31.786916Z",
     "iopub.status.busy": "2021-03-21T17:07:31.786286Z",
     "iopub.status.idle": "2021-03-21T17:07:31.789328Z",
     "shell.execute_reply": "2021-03-21T17:07:31.788896Z"
    },
    "papermill": {
     "duration": 0.01656,
     "end_time": "2021-03-21T17:07:31.789428",
     "exception": false,
     "start_time": "2021-03-21T17:07:31.772868",
     "status": "completed"
    },
    "tags": []
   },
   "outputs": [],
   "source": [
    "def load_data(data_path):\n",
    "    for category in categories:\n",
    "        folder_path=os.path.join(data_path,category)\n",
    "        img_names=os.listdir(folder_path)\n",
    "\n",
    "        for img_name in img_names:\n",
    "            img_path=os.path.join(folder_path,img_name)\n",
    "            img=cv2.imread(img_path)\n",
    "\n",
    "            try:\n",
    "                gray=cv2.cvtColor(img,cv2.COLOR_BGR2GRAY)           \n",
    "                resized=cv2.resize(gray,(img_size,img_size))\n",
    "\n",
    "                data.append(resized)\n",
    "                target.append(label_dict[category])\n",
    "\n",
    "            except Exception as e:\n",
    "                print('Exception:',e)"
   ]
  },
  {
   "cell_type": "code",
   "execution_count": 4,
   "metadata": {
    "execution": {
     "iopub.execute_input": "2021-03-21T17:07:31.809245Z",
     "iopub.status.busy": "2021-03-21T17:07:31.808753Z",
     "iopub.status.idle": "2021-03-21T17:09:13.374498Z",
     "shell.execute_reply": "2021-03-21T17:09:13.373443Z"
    },
    "papermill": {
     "duration": 101.576828,
     "end_time": "2021-03-21T17:09:13.374649",
     "exception": false,
     "start_time": "2021-03-21T17:07:31.797821",
     "status": "completed"
    },
    "tags": []
   },
   "outputs": [],
   "source": [
    "load_data(data_path)\n",
    "load_data(data_path1)\n",
    "load_data(data_path2)"
   ]
  },
  {
   "cell_type": "code",
   "execution_count": 5,
   "metadata": {
    "_cell_guid": "37e7b34f-60e6-4940-a033-77ad56595c3a",
    "_uuid": "3cc7105e-ead8-4d58-b35a-e4e754ebc8a1",
    "execution": {
     "iopub.execute_input": "2021-03-21T17:09:13.398016Z",
     "iopub.status.busy": "2021-03-21T17:09:13.397159Z",
     "iopub.status.idle": "2021-03-21T17:09:13.747368Z",
     "shell.execute_reply": "2021-03-21T17:09:13.746844Z"
    },
    "papermill": {
     "duration": 0.363853,
     "end_time": "2021-03-21T17:09:13.747500",
     "exception": false,
     "start_time": "2021-03-21T17:09:13.383647",
     "status": "completed"
    },
    "tags": []
   },
   "outputs": [],
   "source": [
    "data=np.array(data)/255.0\n",
    "data=np.reshape(data,(data.shape[0],img_size,img_size,1))\n",
    "\n",
    "target=np.array(target)\n",
    "new_target=np_utils.to_categorical(target) "
   ]
  },
  {
   "cell_type": "code",
   "execution_count": 6,
   "metadata": {
    "execution": {
     "iopub.execute_input": "2021-03-21T17:09:13.768983Z",
     "iopub.status.busy": "2021-03-21T17:09:13.768224Z",
     "iopub.status.idle": "2021-03-21T17:09:14.393351Z",
     "shell.execute_reply": "2021-03-21T17:09:14.392764Z"
    },
    "papermill": {
     "duration": 0.637424,
     "end_time": "2021-03-21T17:09:14.393719",
     "exception": false,
     "start_time": "2021-03-21T17:09:13.756295",
     "status": "completed"
    },
    "tags": []
   },
   "outputs": [],
   "source": [
    "np.save('data',data)\n",
    "np.save('target',new_target)"
   ]
  },
  {
   "cell_type": "markdown",
   "metadata": {
    "_cell_guid": "0b07f742-1aea-4d62-b42b-5a09a3007c3d",
    "_uuid": "95c2bdc1-b9d1-46ee-b7c3-0406724dca9b",
    "papermill": {
     "duration": 0.008589,
     "end_time": "2021-03-21T17:09:14.411652",
     "exception": false,
     "start_time": "2021-03-21T17:09:14.403063",
     "status": "completed"
    },
    "tags": []
   },
   "source": [
    "# Convolutional Neural Network Architecture"
   ]
  },
  {
   "cell_type": "code",
   "execution_count": 7,
   "metadata": {
    "execution": {
     "iopub.execute_input": "2021-03-21T17:09:14.434260Z",
     "iopub.status.busy": "2021-03-21T17:09:14.433214Z",
     "iopub.status.idle": "2021-03-21T17:09:14.748918Z",
     "shell.execute_reply": "2021-03-21T17:09:14.748381Z"
    },
    "papermill": {
     "duration": 0.328673,
     "end_time": "2021-03-21T17:09:14.749053",
     "exception": false,
     "start_time": "2021-03-21T17:09:14.420380",
     "status": "completed"
    },
    "tags": []
   },
   "outputs": [],
   "source": [
    "data=np.load('./data.npy')\n",
    "target=np.load('./target.npy')"
   ]
  },
  {
   "cell_type": "code",
   "execution_count": 8,
   "metadata": {
    "_cell_guid": "3e3c554f-f133-4f3b-a12b-9643fdacb530",
    "_uuid": "bf8e3e2f-3c42-4400-963e-237838294588",
    "execution": {
     "iopub.execute_input": "2021-03-21T17:09:14.777512Z",
     "iopub.status.busy": "2021-03-21T17:09:14.774428Z",
     "iopub.status.idle": "2021-03-21T17:09:14.780197Z",
     "shell.execute_reply": "2021-03-21T17:09:14.779741Z"
    },
    "papermill": {
     "duration": 0.022152,
     "end_time": "2021-03-21T17:09:14.780297",
     "exception": false,
     "start_time": "2021-03-21T17:09:14.758145",
     "status": "completed"
    },
    "tags": []
   },
   "outputs": [],
   "source": [
    "def define_model():\n",
    "    model=Sequential()\n",
    "\n",
    "    model.add(Conv2D(32,(3,3),input_shape=data.shape[1:]))\n",
    "    model.add(BatchNormalization())\n",
    "    model.add(Activation('relu'))\n",
    "    model.add(Conv2D(64,(3,3)))\n",
    "    model.add(BatchNormalization())\n",
    "    model.add(Activation('relu'))\n",
    "    model.add(MaxPooling2D(pool_size=(2,2)))\n",
    "    model.add(Dropout(0.4))\n",
    "    \n",
    "    model.add(Conv2D(128,(3,3)))\n",
    "    model.add(BatchNormalization())\n",
    "    model.add(Activation('relu'))\n",
    "    model.add(Conv2D(256,(3,3)))\n",
    "    model.add(BatchNormalization())\n",
    "    model.add(Activation('relu'))\n",
    "    model.add(MaxPooling2D(pool_size=(2,2)))\n",
    "    model.add(Dropout(0.4))\n",
    "\n",
    "    model.add(Conv2D(256,(3,3)))\n",
    "    model.add(BatchNormalization())\n",
    "    model.add(Activation('relu'))\n",
    "    model.add(MaxPooling2D(pool_size=(2,2)))\n",
    "    model.add(Dropout(0.5))\n",
    "\n",
    "    model.add(Flatten())\n",
    "    \n",
    "    model.add(Dense(128))\n",
    "    model.add(BatchNormalization())\n",
    "    model.add(Activation('relu'))\n",
    "    model.add(Dropout(0.5))\n",
    "\n",
    "    model.add(Dense(2))\n",
    "    model.add(BatchNormalization())\n",
    "    model.add(Activation('softmax'))\n",
    "\n",
    "    model.compile(loss='categorical_crossentropy',optimizer='adam',metrics=['accuracy'])\n",
    "    \n",
    "    return model"
   ]
  },
  {
   "cell_type": "code",
   "execution_count": 9,
   "metadata": {
    "_cell_guid": "0c0b5946-339c-4da1-bebd-e71da9fbc892",
    "_uuid": "71cbe963-94ce-425a-8c53-2be72eb4a9ba",
    "execution": {
     "iopub.execute_input": "2021-03-21T17:09:14.802819Z",
     "iopub.status.busy": "2021-03-21T17:09:14.801731Z",
     "iopub.status.idle": "2021-03-21T17:09:17.944482Z",
     "shell.execute_reply": "2021-03-21T17:09:17.943095Z"
    },
    "papermill": {
     "duration": 3.155629,
     "end_time": "2021-03-21T17:09:17.944614",
     "exception": false,
     "start_time": "2021-03-21T17:09:14.788985",
     "status": "completed"
    },
    "tags": []
   },
   "outputs": [],
   "source": [
    "train_data,test_data,train_target,test_target=train_test_split(data,target,test_size=0.1)\n",
    "model=define_model()"
   ]
  },
  {
   "cell_type": "code",
   "execution_count": 10,
   "metadata": {
    "_cell_guid": "a3ac2334-8d59-479c-b9d7-3587c0e9081a",
    "_uuid": "41262f55-04cb-4118-b31e-8cc82b1418ad",
    "execution": {
     "iopub.execute_input": "2021-03-21T17:09:17.968861Z",
     "iopub.status.busy": "2021-03-21T17:09:17.968223Z",
     "iopub.status.idle": "2021-03-21T17:12:45.588135Z",
     "shell.execute_reply": "2021-03-21T17:12:45.588910Z"
    },
    "papermill": {
     "duration": 207.634011,
     "end_time": "2021-03-21T17:12:45.589090",
     "exception": false,
     "start_time": "2021-03-21T17:09:17.955079",
     "status": "completed"
    },
    "tags": []
   },
   "outputs": [
    {
     "name": "stdout",
     "output_type": "stream",
     "text": [
      "Epoch 1/20\n",
      "279/279 [==============================] - 15s 39ms/step - loss: 0.3211 - accuracy: 0.8823 - val_loss: 0.5775 - val_accuracy: 0.7818\n",
      "Epoch 2/20\n",
      "279/279 [==============================] - 10s 36ms/step - loss: 0.1764 - accuracy: 0.9582 - val_loss: 0.1817 - val_accuracy: 0.9502\n",
      "Epoch 3/20\n",
      "279/279 [==============================] - 10s 36ms/step - loss: 0.1354 - accuracy: 0.9673 - val_loss: 0.1299 - val_accuracy: 0.9632\n",
      "Epoch 4/20\n",
      "279/279 [==============================] - 10s 35ms/step - loss: 0.1021 - accuracy: 0.9768 - val_loss: 0.1227 - val_accuracy: 0.9735\n",
      "Epoch 5/20\n",
      "279/279 [==============================] - 10s 36ms/step - loss: 0.0863 - accuracy: 0.9807 - val_loss: 0.0772 - val_accuracy: 0.9811\n",
      "Epoch 6/20\n",
      "279/279 [==============================] - 10s 36ms/step - loss: 0.0751 - accuracy: 0.9836 - val_loss: 0.0739 - val_accuracy: 0.9762\n",
      "Epoch 7/20\n",
      "279/279 [==============================] - 10s 36ms/step - loss: 0.0611 - accuracy: 0.9873 - val_loss: 0.0577 - val_accuracy: 0.9816\n",
      "Epoch 8/20\n",
      "279/279 [==============================] - 10s 36ms/step - loss: 0.0510 - accuracy: 0.9913 - val_loss: 0.0656 - val_accuracy: 0.9802\n",
      "Epoch 9/20\n",
      "279/279 [==============================] - 10s 36ms/step - loss: 0.0516 - accuracy: 0.9881 - val_loss: 0.0617 - val_accuracy: 0.9798\n",
      "Epoch 10/20\n",
      "279/279 [==============================] - 10s 36ms/step - loss: 0.0432 - accuracy: 0.9901 - val_loss: 0.0503 - val_accuracy: 0.9879\n",
      "Epoch 11/20\n",
      "279/279 [==============================] - 10s 36ms/step - loss: 0.0364 - accuracy: 0.9934 - val_loss: 0.0587 - val_accuracy: 0.9816\n",
      "Epoch 12/20\n",
      "279/279 [==============================] - 10s 36ms/step - loss: 0.0312 - accuracy: 0.9934 - val_loss: 0.0404 - val_accuracy: 0.9897\n",
      "Epoch 13/20\n",
      "279/279 [==============================] - 10s 36ms/step - loss: 0.0393 - accuracy: 0.9908 - val_loss: 0.0621 - val_accuracy: 0.9789\n",
      "Epoch 14/20\n",
      "279/279 [==============================] - 10s 36ms/step - loss: 0.0297 - accuracy: 0.9930 - val_loss: 0.0604 - val_accuracy: 0.9767\n",
      "Epoch 15/20\n",
      "279/279 [==============================] - 10s 36ms/step - loss: 0.0346 - accuracy: 0.9910 - val_loss: 0.0409 - val_accuracy: 0.9870\n",
      "Epoch 16/20\n",
      "279/279 [==============================] - 10s 36ms/step - loss: 0.0257 - accuracy: 0.9941 - val_loss: 0.0960 - val_accuracy: 0.9681\n",
      "Epoch 17/20\n",
      "279/279 [==============================] - 10s 36ms/step - loss: 0.0297 - accuracy: 0.9916 - val_loss: 0.0396 - val_accuracy: 0.9883\n",
      "Epoch 18/20\n",
      "279/279 [==============================] - 10s 36ms/step - loss: 0.0240 - accuracy: 0.9940 - val_loss: 0.1222 - val_accuracy: 0.9582\n",
      "Epoch 19/20\n",
      "279/279 [==============================] - 10s 36ms/step - loss: 0.0182 - accuracy: 0.9965 - val_loss: 0.1113 - val_accuracy: 0.9641\n",
      "Epoch 20/20\n",
      "279/279 [==============================] - 10s 36ms/step - loss: 0.0285 - accuracy: 0.9917 - val_loss: 0.0426 - val_accuracy: 0.9888\n"
     ]
    }
   ],
   "source": [
    "checkpoint = ModelCheckpoint('FaceClassifier.hdf5',monitor='val_loss',verbose=0,save_best_only=True,mode='auto')\n",
    "history=model.fit(train_data,train_target,epochs=20,callbacks=[checkpoint],validation_split=0.2)"
   ]
  },
  {
   "cell_type": "code",
   "execution_count": 11,
   "metadata": {
    "_cell_guid": "fdd2fa62-1672-4c40-8c0f-01cc412ab57e",
    "_uuid": "a0389490-f024-48da-97a0-7209b03d8c94",
    "execution": {
     "iopub.execute_input": "2021-03-21T17:12:47.044200Z",
     "iopub.status.busy": "2021-03-21T17:12:47.042797Z",
     "iopub.status.idle": "2021-03-21T17:12:47.203120Z",
     "shell.execute_reply": "2021-03-21T17:12:47.203530Z"
    },
    "papermill": {
     "duration": 0.900214,
     "end_time": "2021-03-21T17:12:47.203679",
     "exception": false,
     "start_time": "2021-03-21T17:12:46.303465",
     "status": "completed"
    },
    "tags": []
   },
   "outputs": [
    {
     "data": {
      "image/png": "[encoded data removed]",
      "text/plain": [
       "<Figure size 432x288 with 1 Axes>"
      ]
     },
     "metadata": {
      "needs_background": "light"
     },
     "output_type": "display_data"
    }
   ],
   "source": [
    "plt.plot(history.history['loss'],'r',label='training loss')\n",
    "plt.plot(history.history['val_loss'],label='validation loss')\n",
    "plt.xlabel('# epochs')\n",
    "plt.ylabel('loss')\n",
    "plt.legend()\n",
    "plt.show()"
   ]
  },
  {
   "cell_type": "code",
   "execution_count": 12,
   "metadata": {
    "_cell_guid": "05190495-a108-4e06-9465-972f1551aa4c",
    "_uuid": "01ffb490-fdf3-4a07-8aa8-dd185d6d8ae0",
    "execution": {
     "iopub.execute_input": "2021-03-21T17:12:48.948163Z",
     "iopub.status.busy": "2021-03-21T17:12:48.947383Z",
     "iopub.status.idle": "2021-03-21T17:12:49.161894Z",
     "shell.execute_reply": "2021-03-21T17:12:49.161241Z"
    },
    "papermill": {
     "duration": 1.240915,
     "end_time": "2021-03-21T17:12:49.162061",
     "exception": false,
     "start_time": "2021-03-21T17:12:47.921146",
     "status": "completed"
    },
    "tags": []
   },
   "outputs": [
    {
     "data": {
      "image/png": "[encoded data removed]",
      "text/plain": [
       "<Figure size 432x288 with 1 Axes>"
      ]
     },
     "metadata": {
      "needs_background": "light"
     },
     "output_type": "display_data"
    }
   ],
   "source": [
    "plt.plot(history.history['accuracy'],'r',label='training accuracy')\n",
    "plt.plot(history.history['val_accuracy'],label='validation accuracy')\n",
    "plt.xlabel('# epochs')\n",
    "plt.ylabel('accuracy')\n",
    "plt.legend()\n",
    "plt.show()"
   ]
  },
  {
   "cell_type": "code",
   "execution_count": 13,
   "metadata": {
    "_cell_guid": "54a2f0bd-6961-49a9-bacb-6ee8f372a06f",
    "_uuid": "59c7af33-b33c-4efb-952d-3ccfcf933883",
    "execution": {
     "iopub.execute_input": "2021-03-21T17:12:51.061040Z",
     "iopub.status.busy": "2021-03-21T17:12:51.059970Z",
     "iopub.status.idle": "2021-03-21T17:12:51.694410Z",
     "shell.execute_reply": "2021-03-21T17:12:51.693328Z"
    },
    "papermill": {
     "duration": 1.36004,
     "end_time": "2021-03-21T17:12:51.694582",
     "exception": false,
     "start_time": "2021-03-21T17:12:50.334542",
     "status": "completed"
    },
    "tags": []
   },
   "outputs": [
    {
     "name": "stdout",
     "output_type": "stream",
     "text": [
      "39/39 [==============================] - 1s 14ms/step - loss: 0.0438 - accuracy: 0.9863\n",
      "[0.043844785541296005, 0.9862570762634277]\n"
     ]
    }
   ],
   "source": [
    "print(model.evaluate(test_data,test_target))"
   ]
  },
  {
   "cell_type": "markdown",
   "metadata": {
    "papermill": {
     "duration": 0.724155,
     "end_time": "2021-03-21T17:12:53.144912",
     "exception": false,
     "start_time": "2021-03-21T17:12:52.420757",
     "status": "completed"
    },
    "tags": []
   },
   "source": [
    "#### Accuracy : 0.9903 "
   ]
  }
 ],
 "metadata": {
  "kernelspec": {
   "display_name": "Python 3",
   "language": "python",
   "name": "python3"
  },
  "language_info": {
   "codemirror_mode": {
    "name": "ipython",
    "version": 3
   },
   "file_extension": ".py",
   "mimetype": "text/x-python",
   "name": "python",
   "nbconvert_exporter": "python",
   "pygments_lexer": "ipython3",
   "version": "3.7.9"
  },
  "papermill": {
   "default_parameters": {},
   "duration": 335.900286,
   "end_time": "2021-03-21T17:12:56.565172",
   "environment_variables": {},
   "exception": null,
   "input_path": "__notebook__.ipynb",
   "output_path": "__notebook__.ipynb",
   "parameters": {},
   "start_time": "2021-03-21T17:07:20.664886",
   "version": "2.2.2"
  }
 },
 "nbformat": 4,
 "nbformat_minor": 4
}
